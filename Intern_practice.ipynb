{
 "cells": [
  {
   "cell_type": "code",
   "execution_count": null,
   "id": "84d781d3-256c-405c-85da-cd50080380b2",
   "metadata": {},
   "outputs": [],
   "source": [
    "print('Hello')"
   ]
  },
  {
   "cell_type": "code",
   "execution_count": 6,
   "id": "ecf3d8b9-939e-45d5-838c-ae59f01d2db1",
   "metadata": {},
   "outputs": [
    {
     "name": "stdout",
     "output_type": "stream",
     "text": [
      "Collecting moviepy\n",
      "  Using cached moviepy-2.2.1-py3-none-any.whl.metadata (6.9 kB)\n",
      "Requirement already satisfied: decorator<6.0,>=4.0.2 in /opt/anaconda3/lib/python3.12/site-packages (from moviepy) (5.1.1)\n",
      "Requirement already satisfied: imageio<3.0,>=2.5 in /opt/anaconda3/lib/python3.12/site-packages (from moviepy) (2.33.1)\n",
      "Requirement already satisfied: imageio_ffmpeg>=0.2.0 in /opt/anaconda3/lib/python3.12/site-packages (from moviepy) (0.6.0)\n",
      "Requirement already satisfied: numpy>=1.25.0 in /opt/anaconda3/lib/python3.12/site-packages (from moviepy) (1.26.4)\n",
      "Requirement already satisfied: proglog<=1.0.0 in /opt/anaconda3/lib/python3.12/site-packages (from moviepy) (0.1.12)\n",
      "Requirement already satisfied: python-dotenv>=0.10 in /opt/anaconda3/lib/python3.12/site-packages (from moviepy) (0.21.0)\n",
      "Requirement already satisfied: pillow<12.0,>=9.2.0 in /opt/anaconda3/lib/python3.12/site-packages (from moviepy) (10.2.0)\n",
      "Requirement already satisfied: tqdm in /opt/anaconda3/lib/python3.12/site-packages (from proglog<=1.0.0->moviepy) (4.66.5)\n",
      "Using cached moviepy-2.2.1-py3-none-any.whl (129 kB)\n",
      "Installing collected packages: moviepy\n",
      "Successfully installed moviepy-2.2.1\n",
      "Note: you may need to restart the kernel to use updated packages.\n"
     ]
    }
   ],
   "source": [
    "pip install moviepy"
   ]
  },
  {
   "cell_type": "code",
   "execution_count": null,
   "id": "c6ab0a93-cd2b-4b25-af24-6cbb2ee7bbd8",
   "metadata": {},
   "outputs": [],
   "source": [
    "\n",
    "# # Install Open Cv - PIP - tool to install packages meaning PIP Install Packages/Python pip install opencv-python\n",
    "pip install opencv-python\n",
    "pip install deepface\n",
    "pip install fer"
   ]
  },
  {
   "cell_type": "code",
   "execution_count": 7,
   "id": "f8b8cc39-5afb-45ac-91cc-3203c81da8d0",
   "metadata": {},
   "outputs": [
    {
     "ename": "ModuleNotFoundError",
     "evalue": "No module named 'moviepy.editor'",
     "output_type": "error",
     "traceback": [
      "\u001b[0;31m---------------------------------------------------------------------------\u001b[0m",
      "\u001b[0;31mModuleNotFoundError\u001b[0m                       Traceback (most recent call last)",
      "Cell \u001b[0;32mIn[7], line 9\u001b[0m\n\u001b[1;32m      1\u001b[0m \u001b[38;5;66;03m# # checking if its installed correctly and understanding the version\u001b[39;00m\n\u001b[1;32m      2\u001b[0m \u001b[38;5;66;03m# import cv2\u001b[39;00m\n\u001b[1;32m      3\u001b[0m \u001b[38;5;66;03m# print(cv2.__version__)\u001b[39;00m\n\u001b[0;32m   (...)\u001b[0m\n\u001b[1;32m      7\u001b[0m \u001b[38;5;66;03m# import moviepy\u001b[39;00m\n\u001b[1;32m      8\u001b[0m \u001b[38;5;66;03m# print(\"moviepy is working!\")\u001b[39;00m\n\u001b[0;32m----> 9\u001b[0m \u001b[38;5;28;01mfrom\u001b[39;00m \u001b[38;5;21;01mfer\u001b[39;00m \u001b[38;5;28;01mimport\u001b[39;00m FER\n\u001b[1;32m     10\u001b[0m \u001b[38;5;28mprint\u001b[39m(fer\u001b[38;5;241m.\u001b[39m__version__)\n",
      "File \u001b[0;32m/opt/anaconda3/lib/python3.12/site-packages/fer/__init__.py:27\u001b[0m\n\u001b[1;32m      1\u001b[0m \u001b[38;5;66;03m#!/usr/bin/python3\u001b[39;00m\n\u001b[1;32m      2\u001b[0m \u001b[38;5;66;03m# -*- coding: utf-8 -*-\u001b[39;00m\n\u001b[1;32m      3\u001b[0m \n\u001b[0;32m   (...)\u001b[0m\n\u001b[1;32m     23\u001b[0m \u001b[38;5;66;03m# OUT OF OR IN CONNECTION WITH THE SOFTWARE OR THE USE OR OTHER DEALINGS IN THE\u001b[39;00m\n\u001b[1;32m     24\u001b[0m \u001b[38;5;66;03m# SOFTWARE.\u001b[39;00m\n\u001b[1;32m     25\u001b[0m \u001b[38;5;28;01mimport\u001b[39;00m \u001b[38;5;21;01mlogging\u001b[39;00m\n\u001b[0;32m---> 27\u001b[0m \u001b[38;5;28;01mfrom\u001b[39;00m \u001b[38;5;21;01m.\u001b[39;00m\u001b[38;5;21;01mclasses\u001b[39;00m \u001b[38;5;28;01mimport\u001b[39;00m Video\n\u001b[1;32m     28\u001b[0m \u001b[38;5;28;01mfrom\u001b[39;00m \u001b[38;5;21;01m.\u001b[39;00m\u001b[38;5;21;01mfer\u001b[39;00m \u001b[38;5;28;01mimport\u001b[39;00m FER\n\u001b[1;32m     30\u001b[0m log \u001b[38;5;241m=\u001b[39m logging\u001b[38;5;241m.\u001b[39mgetLogger(\u001b[38;5;124m\"\u001b[39m\u001b[38;5;124mfer\u001b[39m\u001b[38;5;124m\"\u001b[39m)\n",
      "File \u001b[0;32m/opt/anaconda3/lib/python3.12/site-packages/fer/classes.py:7\u001b[0m\n\u001b[1;32m      5\u001b[0m \u001b[38;5;28;01mimport\u001b[39;00m \u001b[38;5;21;01mos\u001b[39;00m\n\u001b[1;32m      6\u001b[0m \u001b[38;5;28;01mimport\u001b[39;00m \u001b[38;5;21;01mre\u001b[39;00m\n\u001b[0;32m----> 7\u001b[0m \u001b[38;5;28;01mfrom\u001b[39;00m \u001b[38;5;21;01mmoviepy\u001b[39;00m\u001b[38;5;21;01m.\u001b[39;00m\u001b[38;5;21;01meditor\u001b[39;00m \u001b[38;5;28;01mimport\u001b[39;00m \u001b[38;5;241m*\u001b[39m\n\u001b[1;32m      8\u001b[0m \u001b[38;5;28;01mfrom\u001b[39;00m \u001b[38;5;21;01mpathlib\u001b[39;00m \u001b[38;5;28;01mimport\u001b[39;00m Path\n\u001b[1;32m      9\u001b[0m \u001b[38;5;28;01mfrom\u001b[39;00m \u001b[38;5;21;01mtyping\u001b[39;00m \u001b[38;5;28;01mimport\u001b[39;00m Optional, Union\n",
      "\u001b[0;31mModuleNotFoundError\u001b[0m: No module named 'moviepy.editor'"
     ]
    }
   ],
   "source": [
    "# # checking if its installed correctly and understanding the version\n",
    "# import cv2\n",
    "# print(cv2.__version__)\n",
    "# import os\n",
    "\n",
    "# from deepface import DeepFace\n",
    "# import moviepy\n",
    "# print(\"moviepy is working!\")\n",
    "from fer import FER\n",
    "print(fer.__version__)"
   ]
  },
  {
   "cell_type": "code",
   "execution_count": null,
   "id": "911e9723-5ecf-4c26-87b7-5daf81841211",
   "metadata": {},
   "outputs": [],
   "source": [
    "video = cv2.VideoCapture('/Users/bujjigaadu/Desktop/Data Analytics projects /Internship/smile.mp4')\n",
    "\n",
    "if not video.isOpened():\n",
    "    print(\"❌ Error opening video file.\")\n",
    "else:\n",
    "    print(\"✅ Video successfully loaded!\");\n",
    "    ret, frame = video.read()\n",
    "    print('ret', ret, 'frame' ,frame, video)\n",
    "    if ret:\n",
    "        print('✅ Frame extracted!');\n",
    "        cv2.imwrite('first_frame.jpg',frame)\n",
    "    else:\n",
    "        print(\"❌ Error reading video file.\")\n",
    "    \n",
    "video.release();"
   ]
  },
  {
   "cell_type": "code",
   "execution_count": null,
   "id": "3e8521ff-84dc-4207-8348-ec291a60e5bd",
   "metadata": {},
   "outputs": [],
   "source": [
    "# to extract all the frames in a folder \n",
    "# Always open video again - dont skip this step \n",
    "video = cv2.VideoCapture('/Users/bujjigaadu/Desktop/Data Analytics projects /Internship/smile.mp4')\n",
    "\n",
    "if not video.isOpened():\n",
    "    print(\"❌ Error opening video file.\")\n",
    "smile_frames =\"smile frames\"\n",
    "if not os.path.exists(smile_frames):\n",
    "    os.makedirs(smile_frames)\n",
    "frame_count = int(video.get(cv2.CAP_PROP_FRAME_COUNT))\n",
    "\n",
    "for frame_num in range (1, frame_count+1):\n",
    "    ret, frame = video.read()\n",
    "    if not ret:\n",
    "        print(\"❌ Error reading video file.\")\n",
    "        print(f\"Stopped at frame {frame_num}\")\n",
    "        break\n",
    "    frame_filename = os.path.join(smile_frames, f\"frame_{frame_num}.jpg\")\n",
    "    cv2.imwrite(frame_filename,frame)\n",
    "    print(f\"Saved {frame_filename}\")\n",
    "\n",
    "# video.release()\n",
    "# print(\"✅ All frames extracted and saved using a for loop.\")\n",
    "        "
   ]
  },
  {
   "cell_type": "code",
   "execution_count": null,
   "id": "9727c223-9c57-4979-93ea-6872fbfa2b5a",
   "metadata": {},
   "outputs": [],
   "source": [
    "frames_folder = \"smile frames\"\n",
    "frames_files = sorted([f for f in os.listdir(frames_folder) if f.endswith('.jpg')] )\n",
    "\n",
    "for frame_file in frames_files:\n",
    "    frame_path = os.path.join(frames_folder, frame_file)\n",
    "    frame = cv2.imread(frame_path)\n",
    "\n",
    "    try:\n",
    "        result = DeepFace.analyze(frame, actions =['emotion'], enforce_detection = False)\n",
    "        emotion = result[0]['dominant_emotion'] if isinstance(result,list) else result['dominant_emotion']\n",
    "        print(f\"{frame_file}: {emotion}\")\n",
    "    except Exception as e:\n",
    "        print(f\"Could not process {frame_file}: {e}\")\n",
    "        \n",
    "\n",
    "# There is an ongoing issue with the package - not processing images well"
   ]
  },
  {
   "cell_type": "code",
   "execution_count": 3,
   "id": "7da34b6b-cabb-4d8f-bc04-c3bf6a680d8b",
   "metadata": {},
   "outputs": [
    {
     "name": "stdout",
     "output_type": "stream",
     "text": [
      "Python executable is: /opt/anaconda3/bin/python\n"
     ]
    }
   ],
   "source": [
    "import sys\n",
    "print(\"Python executable is:\", sys.executable)"
   ]
  },
  {
   "cell_type": "code",
   "execution_count": 5,
   "id": "325a72ca-a489-43c1-ada5-63615026de1b",
   "metadata": {},
   "outputs": [
    {
     "name": "stdout",
     "output_type": "stream",
     "text": [
      "Requirement already satisfied: moviepy in /opt/anaconda3/lib/python3.12/site-packages (2.2.1)\n",
      "Requirement already satisfied: decorator<6.0,>=4.0.2 in /opt/anaconda3/lib/python3.12/site-packages (from moviepy) (5.1.1)\n",
      "Requirement already satisfied: imageio<3.0,>=2.5 in /opt/anaconda3/lib/python3.12/site-packages (from moviepy) (2.33.1)\n",
      "Requirement already satisfied: imageio_ffmpeg>=0.2.0 in /opt/anaconda3/lib/python3.12/site-packages (from moviepy) (0.6.0)\n",
      "Requirement already satisfied: numpy>=1.25.0 in /opt/anaconda3/lib/python3.12/site-packages (from moviepy) (1.26.4)\n",
      "Requirement already satisfied: proglog<=1.0.0 in /opt/anaconda3/lib/python3.12/site-packages (from moviepy) (0.1.12)\n",
      "Requirement already satisfied: python-dotenv>=0.10 in /opt/anaconda3/lib/python3.12/site-packages (from moviepy) (0.21.0)\n",
      "Requirement already satisfied: pillow<12.0,>=9.2.0 in /opt/anaconda3/lib/python3.12/site-packages (from moviepy) (10.2.0)\n",
      "Requirement already satisfied: tqdm in /opt/anaconda3/lib/python3.12/site-packages (from proglog<=1.0.0->moviepy) (4.66.5)\n"
     ]
    }
   ],
   "source": [
    "import sys\n",
    "!{sys.executable} -m pip install moviepy"
   ]
  },
  {
   "cell_type": "code",
   "execution_count": 15,
   "id": "0de45f18-6a29-4e06-ad29-836cdcefdfe3",
   "metadata": {},
   "outputs": [
    {
     "name": "stdout",
     "output_type": "stream",
     "text": [
      "['AudioArrayClip', 'AudioClip', 'AudioFileClip', 'BitmapClip', 'Clip', 'ColorClip', 'CompositeAudioClip', 'CompositeVideoClip', 'DataVideoClip', 'Effect', 'ImageClip', 'ImageSequenceClip', 'TextClip', 'UpdatedVideoClip', 'VideoClip', 'VideoFileClip', '__all__', '__builtins__', '__cached__', '__doc__', '__file__', '__loader__', '__name__', '__package__', '__path__', '__spec__', '__version__', 'afx', 'audio', 'clips_array', 'concatenate_audioclips', 'concatenate_videoclips', 'config', 'convert_to_seconds', 'decorators', 'display_in_notebook', 'ffmpeg_tools', 'tools', 'version', 'vfx', 'video', 'videotools']\n"
     ]
    }
   ],
   "source": [
    "import moviepy\n",
    "print(dir(moviepy))"
   ]
  },
  {
   "cell_type": "code",
   "execution_count": 25,
   "id": "cf2b8860-7140-4fe8-9768-07878b601a2f",
   "metadata": {},
   "outputs": [
    {
     "name": "stdout",
     "output_type": "stream",
     "text": [
      "/opt/anaconda3/lib/python3.12/site-packages/moviepy/__init__.py\n"
     ]
    }
   ],
   "source": [
    "import moviepy\n",
    "print(moviepy.__file__)"
   ]
  },
  {
   "cell_type": "code",
   "execution_count": 9,
   "id": "938d5670-fe0c-484e-9aae-2066cc3db32d",
   "metadata": {},
   "outputs": [
    {
     "ename": "ModuleNotFoundError",
     "evalue": "No module named 'moviepy.editor'",
     "output_type": "error",
     "traceback": [
      "\u001b[0;31m---------------------------------------------------------------------------\u001b[0m",
      "\u001b[0;31mModuleNotFoundError\u001b[0m                       Traceback (most recent call last)",
      "Cell \u001b[0;32mIn[9], line 1\u001b[0m\n\u001b[0;32m----> 1\u001b[0m \u001b[38;5;28;01mimport\u001b[39;00m \u001b[38;5;21;01mmoviepy\u001b[39;00m\u001b[38;5;21;01m.\u001b[39;00m\u001b[38;5;21;01meditor\u001b[39;00m\n\u001b[1;32m      2\u001b[0m \u001b[38;5;28mprint\u001b[39m(\u001b[38;5;124m\"\u001b[39m\u001b[38;5;124mmoviepy.editor is working!\u001b[39m\u001b[38;5;124m\"\u001b[39m)\n",
      "\u001b[0;31mModuleNotFoundError\u001b[0m: No module named 'moviepy.editor'"
     ]
    }
   ],
   "source": [
    "import moviepy.editor\n",
    "print(\"moviepy.editor is working!\")"
   ]
  },
  {
   "cell_type": "code",
   "execution_count": null,
   "id": "95e331a5-29f9-4d12-96a4-08796f36aae9",
   "metadata": {},
   "outputs": [],
   "source": []
  },
  {
   "cell_type": "code",
   "execution_count": null,
   "id": "bcc6244b-aaa0-42e1-8e46-9828b6d58d9b",
   "metadata": {},
   "outputs": [],
   "source": []
  },
  {
   "cell_type": "code",
   "execution_count": null,
   "id": "e9da407d-ffab-4049-aab7-8ac9e61d3da3",
   "metadata": {},
   "outputs": [],
   "source": []
  },
  {
   "cell_type": "code",
   "execution_count": null,
   "id": "0bbb5348-2121-43df-890e-3d25e627d40a",
   "metadata": {},
   "outputs": [],
   "source": []
  },
  {
   "cell_type": "code",
   "execution_count": null,
   "id": "718d6fc1-ba34-4b89-bf4e-0b6ccc63790b",
   "metadata": {},
   "outputs": [],
   "source": [
    "\n"
   ]
  }
 ],
 "metadata": {
  "kernelspec": {
   "display_name": "Python [conda env:anaconda3]",
   "language": "python",
   "name": "conda-env-anaconda3-py"
  },
  "language_info": {
   "codemirror_mode": {
    "name": "ipython",
    "version": 3
   },
   "file_extension": ".py",
   "mimetype": "text/x-python",
   "name": "python",
   "nbconvert_exporter": "python",
   "pygments_lexer": "ipython3",
   "version": "3.12.7"
  }
 },
 "nbformat": 4,
 "nbformat_minor": 5
}
